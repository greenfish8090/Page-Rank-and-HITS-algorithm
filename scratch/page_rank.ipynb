{
 "cells": [
  {
   "cell_type": "code",
   "execution_count": 1,
   "id": "8c54fc3b",
   "metadata": {},
   "outputs": [],
   "source": [
    "import numpy as np\n",
    "from scipy import linalg\n",
    "import pydot\n",
    "from IPython.display import Image, display"
   ]
  },
  {
   "cell_type": "code",
   "execution_count": 2,
   "id": "b168abe3",
   "metadata": {},
   "outputs": [],
   "source": [
    "graph = pydot.Dot(\"Graph\")\n",
    "with open(\"input.txt\", 'r') as file:\n",
    "    lines = file.readlines()\n",
    "    n_nodes = int(lines[0])\n",
    "    mask = np.zeros((n_nodes, n_nodes))\n",
    "    n_edges = int(lines[1])\n",
    "    for e in lines[2:]:\n",
    "        src, dst = e.rstrip().split(' ')\n",
    "        src, dst = int(src), int(dst)\n",
    "        \n",
    "        mask[src-1, dst-1] = 1\n",
    "        graph.add_edge(pydot.Edge(e.split(' ')[0], e.split(' ')[1]))"
   ]
  },
  {
   "cell_type": "code",
   "execution_count": 3,
   "id": "3d80793d",
   "metadata": {},
   "outputs": [],
   "source": [
    "np.set_printoptions(precision=4)"
   ]
  },
  {
   "cell_type": "code",
   "execution_count": 4,
   "id": "bb0eb1e6",
   "metadata": {},
   "outputs": [
    {
     "data": {
      "image/png": "[encoded data removed]",
      "text/plain": [
       "<IPython.core.display.Image object>"
      ]
     },
     "metadata": {},
     "output_type": "display_data"
    }
   ],
   "source": [
    "plt = Image(graph.create_png())\n",
    "display(plt)"
   ]
  },
  {
   "cell_type": "code",
   "execution_count": 5,
   "id": "33494f70",
   "metadata": {},
   "outputs": [
    {
     "data": {
      "text/plain": [
       "array([[0., 1., 0., 0.],\n",
       "       [1., 0., 1., 0.],\n",
       "       [0., 1., 0., 1.],\n",
       "       [0., 0., 1., 0.]])"
      ]
     },
     "execution_count": 5,
     "metadata": {},
     "output_type": "execute_result"
    }
   ],
   "source": [
    "mask"
   ]
  },
  {
   "cell_type": "code",
   "execution_count": 6,
   "id": "264cc978",
   "metadata": {},
   "outputs": [],
   "source": [
    "def compute_trans(mask, random_tp = 0.1):\n",
    "    \n",
    "    #Calculating sum of each row and dividing from mask to get probabilities\n",
    "    sums = np.sum(mask, axis=1, keepdims=True)\n",
    "    trans = np.divide(mask, sums, out=np.zeros_like(mask), where=sums!=0)\n",
    "    \n",
    "    #Accounting for random teleportations\n",
    "    temp1 = np.divide(random_tp, (n_nodes - sums), out=np.zeros_like(mask), where=(n_nodes - sums)!=0)\n",
    "    temp2 = np.divide(1 - random_tp, sums, out=np.zeros_like(mask), where=sums!=0)\n",
    "    trans = temp1 * (1 - mask) + temp2 * mask\n",
    "    trans = trans / np.sum(trans, axis=1, keepdims=True)\n",
    "    \n",
    "    return trans"
   ]
  },
  {
   "cell_type": "code",
   "execution_count": 7,
   "id": "e3683889",
   "metadata": {
    "scrolled": true
   },
   "outputs": [
    {
     "data": {
      "text/plain": [
       "array([[0.0333, 0.9   , 0.0333, 0.0333],\n",
       "       [0.45  , 0.05  , 0.45  , 0.05  ],\n",
       "       [0.05  , 0.45  , 0.05  , 0.45  ],\n",
       "       [0.0333, 0.0333, 0.9   , 0.0333]])"
      ]
     },
     "execution_count": 7,
     "metadata": {},
     "output_type": "execute_result"
    }
   ],
   "source": [
    "trans = compute_trans(mask)\n",
    "trans"
   ]
  },
  {
   "cell_type": "code",
   "execution_count": 8,
   "id": "e5055a91",
   "metadata": {},
   "outputs": [
    {
     "data": {
      "text/plain": [
       "array([[1.],\n",
       "       [1.],\n",
       "       [1.],\n",
       "       [1.]])"
      ]
     },
     "execution_count": 8,
     "metadata": {},
     "output_type": "execute_result"
    }
   ],
   "source": [
    "np.sum(trans, axis=1, keepdims=True)"
   ]
  },
  {
   "cell_type": "code",
   "execution_count": 9,
   "id": "07166b0d",
   "metadata": {},
   "outputs": [],
   "source": [
    "def left_eigen(trans):\n",
    "    _, vl = linalg.eig(trans, left=True, right=False)\n",
    "    return vl[:, 0] / np.sum(vl[:, 0])"
   ]
  },
  {
   "cell_type": "code",
   "execution_count": 10,
   "id": "b4197012",
   "metadata": {},
   "outputs": [
    {
     "data": {
      "text/plain": [
       "array([0.1744, 0.3256, 0.3256, 0.1744])"
      ]
     },
     "execution_count": 10,
     "metadata": {},
     "output_type": "execute_result"
    }
   ],
   "source": [
    "ss = left_eigen(trans)\n",
    "np.real(ss)"
   ]
  },
  {
   "cell_type": "code",
   "execution_count": 11,
   "id": "b5e24a9e",
   "metadata": {},
   "outputs": [
    {
     "data": {
      "text/plain": [
       "0.9999999999999999"
      ]
     },
     "execution_count": 11,
     "metadata": {},
     "output_type": "execute_result"
    }
   ],
   "source": [
    "np.sum(ss)"
   ]
  },
  {
   "cell_type": "code",
   "execution_count": 12,
   "id": "38f72282",
   "metadata": {},
   "outputs": [],
   "source": [
    "def power_iter(transition_matrix, epsilon = 1e-15, max_iters = 10000):\n",
    "    current_iter = 0\n",
    "    starting_page = np.random.choice(len(transition_matrix))\n",
    "    steady_state = np.zeros((1, len(transition_matrix)))\n",
    "    prev_steady_state =  np.zeros((1, len(transition_matrix)))\n",
    "    steady_state[0, starting_page] = 1\n",
    "    while (np.linalg.norm(steady_state - prev_steady_state) > epsilon and current_iter < max_iters):\n",
    "        prev_steady_state = steady_state\n",
    "        steady_state = np.matmul(steady_state, transition_matrix)\n",
    "        current_iter += 1\n",
    "    \n",
    "    return steady_state, current_iter"
   ]
  },
  {
   "cell_type": "code",
   "execution_count": 13,
   "id": "15d56521",
   "metadata": {},
   "outputs": [
    {
     "data": {
      "text/plain": [
       "(array([[0.1744, 0.3256, 0.3256, 0.1744]]), 177)"
      ]
     },
     "execution_count": 13,
     "metadata": {},
     "output_type": "execute_result"
    }
   ],
   "source": [
    "ss, ci = power_iter(trans)\n",
    "ss, ci"
   ]
  },
  {
   "cell_type": "code",
   "execution_count": 14,
   "id": "d5205dbe",
   "metadata": {},
   "outputs": [
    {
     "data": {
      "text/plain": [
       "1.000000000000004"
      ]
     },
     "execution_count": 14,
     "metadata": {},
     "output_type": "execute_result"
    }
   ],
   "source": [
    "np.sum(ss)"
   ]
  },
  {
   "cell_type": "code",
   "execution_count": null,
   "id": "95c5c6d4",
   "metadata": {},
   "outputs": [],
   "source": []
  }
 ],
 "metadata": {
  "kernelspec": {
   "display_name": "Python 3 (ipykernel)",
   "language": "python",
   "name": "python3"
  },
  "language_info": {
   "codemirror_mode": {
    "name": "ipython",
    "version": 3
   },
   "file_extension": ".py",
   "mimetype": "text/x-python",
   "name": "python",
   "nbconvert_exporter": "python",
   "pygments_lexer": "ipython3",
   "version": "3.9.12"
  }
 },
 "nbformat": 4,
 "nbformat_minor": 5
}
